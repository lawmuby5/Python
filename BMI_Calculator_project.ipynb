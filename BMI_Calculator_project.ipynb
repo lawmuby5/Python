{
 "cells": [
  {
   "cell_type": "code",
   "execution_count": 6,
   "id": "bbaa55db",
   "metadata": {},
   "outputs": [
    {
     "name": "stdout",
     "output_type": "stream",
     "text": [
      "Enter your Name: musa\n",
      "Enter your Weight in POUNDS: Multply value in KG by 2.205 190\n",
      "Enter your Height in INCHES (Divide the length by 2.54 from cm to inch) : 68.11\n",
      "musa, your Body mass index is 28.793016452933614 you are over-weight.\n"
     ]
    }
   ],
   "source": [
    "name= input(\"Enter your Name: \")\n",
    "\n",
    "weight= float(input(\"Enter your Weight in POUNDS: Multply value in KG by 2.205 \"))\n",
    "\n",
    "height= float(input(\"Enter your Height in INCHES (Divide the length by 2.54 from cm to inch) : \"))\n",
    "\n",
    "Bmi_Formula =  (weight*703/(height*height))\n",
    "\n",
    "if Bmi_Formula > 0:\n",
    "    if Bmi_Formula <18.5:\n",
    "        print(name+ f\", your Body mass index is {Bmi_Formula} you are under-weight.\")\n",
    "    elif Bmi_Formula <= 24.9:\n",
    "        print(name+ f\", your Body mass index is {Bmi_Formula} you are Normal weight.\")  \n",
    "    elif Bmi_Formula < 29.9:\n",
    "        print(name+  f\", your Body mass index is {Bmi_Formula} you are over-weight.\")  \n",
    "    elif Bmi_Formula < 34.9:\n",
    "        print(name+  f\", your Body mass index is {Bmi_Formula} you are obese.\") \n",
    "    elif Bmi_Formula < 39.9:\n",
    "        print(name+ f\", your Body mass index is {Bmi_Formula} you are severly obesed.\") \n",
    "    else:\n",
    "        print(name+ \", you are Morbidly obesed.\")\n",
    "else:\n",
    "        print(name+ \", enter a valid input\")"
   ]
  },
  {
   "cell_type": "code",
   "execution_count": null,
   "id": "976c1fbb",
   "metadata": {},
   "outputs": [],
   "source": []
  }
 ],
 "metadata": {
  "kernelspec": {
   "display_name": "Python 3 (ipykernel)",
   "language": "python",
   "name": "python3"
  },
  "language_info": {
   "codemirror_mode": {
    "name": "ipython",
    "version": 3
   },
   "file_extension": ".py",
   "mimetype": "text/x-python",
   "name": "python",
   "nbconvert_exporter": "python",
   "pygments_lexer": "ipython3",
   "version": "3.9.12"
  }
 },
 "nbformat": 4,
 "nbformat_minor": 5
}
