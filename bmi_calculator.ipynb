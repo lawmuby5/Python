{
 "cells": [
  {
   "cell_type": "code",
   "execution_count": 7,
   "id": "823224b3",
   "metadata": {},
   "outputs": [
    {
     "name": "stdout",
     "output_type": "stream",
     "text": [
      "Enter your Name: kjhgfd\n",
      "Enter your Weight in POUNDS: Multply value in KG by 2.205 juytrea\n"
     ]
    },
    {
     "ename": "ValueError",
     "evalue": "could not convert string to float: 'juytrea'",
     "output_type": "error",
     "traceback": [
      "\u001b[1;31m---------------------------------------------------------------------------\u001b[0m",
      "\u001b[1;31mValueError\u001b[0m                                Traceback (most recent call last)",
      "Input \u001b[1;32mIn [7]\u001b[0m, in \u001b[0;36m<cell line: 3>\u001b[1;34m()\u001b[0m\n\u001b[0;32m      1\u001b[0m name\u001b[38;5;241m=\u001b[39m \u001b[38;5;28minput\u001b[39m(\u001b[38;5;124m\"\u001b[39m\u001b[38;5;124mEnter your Name: \u001b[39m\u001b[38;5;124m\"\u001b[39m)\n\u001b[1;32m----> 3\u001b[0m weight\u001b[38;5;241m=\u001b[39m \u001b[38;5;28;43mfloat\u001b[39;49m\u001b[43m(\u001b[49m\u001b[38;5;28;43minput\u001b[39;49m\u001b[43m(\u001b[49m\u001b[38;5;124;43m\"\u001b[39;49m\u001b[38;5;124;43mEnter your Weight in POUNDS: Multply value in KG by 2.205 \u001b[39;49m\u001b[38;5;124;43m\"\u001b[39;49m\u001b[43m)\u001b[49m\u001b[43m)\u001b[49m\n\u001b[0;32m      5\u001b[0m height\u001b[38;5;241m=\u001b[39m \u001b[38;5;28mfloat\u001b[39m(\u001b[38;5;28minput\u001b[39m(\u001b[38;5;124m\"\u001b[39m\u001b[38;5;124mEnter your Height in INCHES (Divide the length by 2.54 from cm to inch) : \u001b[39m\u001b[38;5;124m\"\u001b[39m))\n\u001b[0;32m      7\u001b[0m Bmi_Formula \u001b[38;5;241m=\u001b[39m  (weight\u001b[38;5;241m*\u001b[39m\u001b[38;5;241m703\u001b[39m\u001b[38;5;241m/\u001b[39m(height\u001b[38;5;241m*\u001b[39mheight))\n",
      "\u001b[1;31mValueError\u001b[0m: could not convert string to float: 'juytrea'"
     ]
    }
   ],
   "source": [
    "name= input(\"Enter your Name: \")\n",
    "\n",
    "weight= float(input(\"Enter your Weight in POUNDS: Multply value in KG by 2.205 \"))\n",
    "\n",
    "height= float(input(\"Enter your Height in INCHES (Divide the length by 2.54 from cm to inch) : \"))\n",
    "\n",
    "Bmi_Formula =  (weight*703/(height*height))\n",
    "\n",
    "if Bmi_Formula > 0:\n",
    "    if Bmi_Formula <18.5:\n",
    "        print(name+ f\", your Body mass index is {Bmi_Formula} you are under-weight.\")\n",
    "    elif Bmi_Formula <= 24.9:\n",
    "        print(name+ f\", your Body mass index is {Bmi_Formula} you are Normal weight.\")  \n",
    "    elif Bmi_Formula < 29.9:\n",
    "        print(name+  f\", your Body mass index is {Bmi_Formula} you are over-weight.\")  \n",
    "    elif Bmi_Formula < 34.9:\n",
    "        print(name+  f\", your Body mass index is {Bmi_Formula} you are obese.\") \n",
    "    elif Bmi_Formula < 39.9:\n",
    "        print(name+ f\", your Body mass index is {Bmi_Formula} you are severly obesed.\") \n",
    "    else:\n",
    "        print(name+ \", you are Morbidly obesed.\")\n",
    "else:\n",
    "        print(name+ \", enter a valid input\")"
   ]
  },
  {
   "cell_type": "code",
   "execution_count": null,
   "id": "7a29c173",
   "metadata": {},
   "outputs": [],
   "source": []
  }
 ],
 "metadata": {
  "kernelspec": {
   "display_name": "Python 3 (ipykernel)",
   "language": "python",
   "name": "python3"
  },
  "language_info": {
   "codemirror_mode": {
    "name": "ipython",
    "version": 3
   },
   "file_extension": ".py",
   "mimetype": "text/x-python",
   "name": "python",
   "nbconvert_exporter": "python",
   "pygments_lexer": "ipython3",
   "version": "3.9.12"
  }
 },
 "nbformat": 4,
 "nbformat_minor": 5
}
